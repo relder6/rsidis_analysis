{
 "cells": [
  {
   "cell_type": "code",
   "execution_count": null,
   "id": "481bb565-3687-4c0c-9b98-00ab5a48e9b9",
   "metadata": {},
   "outputs": [],
   "source": [
    "import ROOT\n",
    "\n",
    "run_numbers = [24044, 24142]\n",
    "\n",
    "root_filepath = \"/volatile/hallc/c-rsidis/cmorean/replay_pass0a/ROOTfiles/hms_coin_replay_production_{run_numbers}_-1.root\"\n",
    "\n",
    "out_filepath = \"/w/hallc-scshelf2102/c-rsidis/relder/ROOTfiles/merged.root\"\n",
    "\n",
    "chain = ROOT.TChain(\"T\")\n",
    "for run_id in run_numbers:\n",
    "    print(f\"found {run_id}\")\n",
    "    chain.Add(root_filepath.replace(\"{run_numbers}\", str(run_id)))\n",
    "\n",
    "chain.Merge(out_filepath)\n",
    "print(f\"finished\")\n"
   ]
  },
  {
   "cell_type": "code",
   "execution_count": null,
   "id": "c099f59f-86c4-4fc8-8231-b88c17243e48",
   "metadata": {},
   "outputs": [],
   "source": []
  }
 ],
 "metadata": {
  "kernelspec": {
   "display_name": "Python 3 (ipykernel)",
   "language": "python",
   "name": "python3"
  },
  "language_info": {
   "codemirror_mode": {
    "name": "ipython",
    "version": 3
   },
   "file_extension": ".py",
   "mimetype": "text/x-python",
   "name": "python",
   "nbconvert_exporter": "python",
   "pygments_lexer": "ipython3",
   "version": "3.11.9"
  }
 },
 "nbformat": 4,
 "nbformat_minor": 5
}
