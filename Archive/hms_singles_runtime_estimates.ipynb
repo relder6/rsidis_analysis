{
 "cells": [
  {
   "cell_type": "code",
   "execution_count": null,
   "id": "3d0ddfc3-6edf-4091-99de-6ba5c258068f",
   "metadata": {},
   "outputs": [],
   "source": [
    "import numpy as np\n",
    "import matplotlib as mp\n",
    "\n",
    "N_events = input(\"How many events do you want to simulate?\")\n",
    "\n",
    "#Inputting rates per millicoulomb for each pass, target combination.  Order is LH2, LD2, Carbon, Copper.\n",
    "FourPass = (31.9644, 80.4478, 5.55714, 27.8375)\n",
    "FivePass = (96.7768, 260.1, 12.6873, 83.8593)\n",
    "\n",
    "#LH2_4Pass = 31.9644\n",
    "#LH2_5Pass = 96.7768\n",
    "#LD2_4Pass = 80.4478 \n",
    "#LD2_5Pass = 260.1\n",
    "#Carbon_4Pass = 5.55714\n",
    "#Carbon_5Pass = 12.6873\n",
    "#Copper_4Pass = 27.8375\n",
    "#Copper_5Pass = 83.8593\n",
    "\n",
    "#Inputting beam current values, in units of uA\n",
    "I_values_4Pass = (21.1, 42) \n",
    "I_values_5Pass = (32, 34, 29.3)\n",
    "\n",
    "#Calculating time for required number events for each configuration\n",
    "\n",
    "For i in FourPass:\n",
    "    try: \n",
    "\n",
    "\n"
   ]
  }
 ],
 "metadata": {
  "kernelspec": {
   "display_name": "Python 3 (ipykernel)",
   "language": "python",
   "name": "python3"
  },
  "language_info": {
   "codemirror_mode": {
    "name": "ipython",
    "version": 3
   },
   "file_extension": ".py",
   "mimetype": "text/x-python",
   "name": "python",
   "nbconvert_exporter": "python",
   "pygments_lexer": "ipython3",
   "version": "3.11.9"
  }
 },
 "nbformat": 4,
 "nbformat_minor": 5
}
