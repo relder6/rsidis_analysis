{
 "cells": [
  {
   "cell_type": "code",
   "execution_count": 2,
   "id": "918a78e3-7bf1-4e46-ab4b-9d40a466b133",
   "metadata": {},
   "outputs": [
    {
     "name": "stdout",
     "output_type": "stream",
     "text": [
      "['Run_Data;2', 'TSP;1', 'TSH;1', 'T;1', 'E;1', 'hgtry_vs_pgtry;1', 'pkin_mmiss2;1', 'hkin_Q2;1', 'hkin_W2;1', 'hkin_xbj;1', 'pkin_z_had;1', 'pkin_pt;1', 'phi_had;1', 'ptrig_cointime_ccleantrack;1', 'ptrig_cointime_coincut;1', 'ptrig_cointime_coincut_ep;1', 'htrig_cointime_ccleantrack;1', 'htrig_cointime_coincut;1', 'htrig_cointime_coincut_ep;1', 'h_pathcorr;1', 'p_pathcorr;1', 'c_pathcorr;1', 'h_htrig_tdc;1', 'h_ptrig_tdc;1', 'p_ptrig_tdc;1', 'p_htrig_tdc;1', 'h_ctrig_tdc;1', 'p_ctrig_tdc;1', 'ptrig1rate_vs_time;1', 'ptrig4rate_vs_time;1']\n"
     ]
    },
    {
     "ename": "KeyInFileError",
     "evalue": "not found: 'coin' (with any cycle number)\n\n    Available keys: 'T;1', 'E;1', 'TSP;1', 'TSH;1', 'hkin_Q2;1', 'hkin_W2;1', 'pkin_pt;1', 'hkin_xbj;1', 'phi_had;1', 'Run_Data;2', 'pkin_z_had;1', 'h_pathcorr;1', 'p_pathcorr;1', 'c_pathcorr;1', 'pkin_mmiss2;1', 'h_ctrig_tdc;1'...\n\nin file /work/hallc/c-rsidis/gaskelld/example_output/coin_replay_production_6126_-1.root",
     "output_type": "error",
     "traceback": [
      "\u001b[0;31m---------------------------------------------------------------------------\u001b[0m",
      "\u001b[0;31mKeyInFileError\u001b[0m                            Traceback (most recent call last)",
      "Cell \u001b[0;32mIn[2], line 23\u001b[0m\n\u001b[1;32m     19\u001b[0m \u001b[38;5;28mprint\u001b[39m(f\u001b[38;5;241m.\u001b[39mkeys())  \n\u001b[1;32m     20\u001b[0m \u001b[38;5;66;03m# e.g. → [b'coin', b'hists', ...]\u001b[39;00m\n\u001b[1;32m     21\u001b[0m \n\u001b[1;32m     22\u001b[0m \u001b[38;5;66;03m# 2) If “coin” is your TTree, grab it and list its branches\u001b[39;00m\n\u001b[0;32m---> 23\u001b[0m tree \u001b[38;5;241m=\u001b[39m \u001b[43mf\u001b[49m\u001b[43m[\u001b[49m\u001b[38;5;124;43m\"\u001b[39;49m\u001b[38;5;124;43mcoin\u001b[39;49m\u001b[38;5;124;43m\"\u001b[39;49m\u001b[43m]\u001b[49m\n\u001b[1;32m     24\u001b[0m \u001b[38;5;28mprint\u001b[39m(tree\u001b[38;5;241m.\u001b[39mkeys())   \n\u001b[1;32m     25\u001b[0m \u001b[38;5;66;03m# e.g. → [b'trigger', b'p_e', b'p_p', b'hs2x_fp', …]\u001b[39;00m\n\u001b[1;32m     26\u001b[0m \n\u001b[1;32m     27\u001b[0m \u001b[38;5;66;03m# 3) For a nicer summary with types & shapes, use show():\u001b[39;00m\n",
      "File \u001b[0;32m/opt/conda/lib/python3.11/site-packages/uproot/reading.py:2116\u001b[0m, in \u001b[0;36mReadOnlyDirectory.__getitem__\u001b[0;34m(self, where)\u001b[0m\n\u001b[1;32m   2113\u001b[0m     \u001b[38;5;28;01mreturn\u001b[39;00m step\n\u001b[1;32m   2115\u001b[0m \u001b[38;5;28;01melse\u001b[39;00m:\n\u001b[0;32m-> 2116\u001b[0m     \u001b[38;5;28;01mreturn\u001b[39;00m \u001b[38;5;28;43mself\u001b[39;49m\u001b[38;5;241;43m.\u001b[39;49m\u001b[43mkey\u001b[49m\u001b[43m(\u001b[49m\u001b[43mwhere\u001b[49m\u001b[43m)\u001b[49m\u001b[38;5;241m.\u001b[39mget()\n",
      "File \u001b[0;32m/opt/conda/lib/python3.11/site-packages/uproot/reading.py:2064\u001b[0m, in \u001b[0;36mReadOnlyDirectory.key\u001b[0;34m(self, where)\u001b[0m\n\u001b[1;32m   2062\u001b[0m     \u001b[38;5;28;01mreturn\u001b[39;00m last\n\u001b[1;32m   2063\u001b[0m \u001b[38;5;28;01melif\u001b[39;00m cycle \u001b[38;5;129;01mis\u001b[39;00m \u001b[38;5;28;01mNone\u001b[39;00m:\n\u001b[0;32m-> 2064\u001b[0m     \u001b[38;5;28;01mraise\u001b[39;00m uproot\u001b[38;5;241m.\u001b[39mKeyInFileError(\n\u001b[1;32m   2065\u001b[0m         item, cycle\u001b[38;5;241m=\u001b[39m\u001b[38;5;124m\"\u001b[39m\u001b[38;5;124many\u001b[39m\u001b[38;5;124m\"\u001b[39m, keys\u001b[38;5;241m=\u001b[39m\u001b[38;5;28mself\u001b[39m\u001b[38;5;241m.\u001b[39mkeys(), file_path\u001b[38;5;241m=\u001b[39m\u001b[38;5;28mself\u001b[39m\u001b[38;5;241m.\u001b[39m_file\u001b[38;5;241m.\u001b[39mfile_path\n\u001b[1;32m   2066\u001b[0m     )\n\u001b[1;32m   2067\u001b[0m \u001b[38;5;28;01melse\u001b[39;00m:\n\u001b[1;32m   2068\u001b[0m     \u001b[38;5;28;01mraise\u001b[39;00m uproot\u001b[38;5;241m.\u001b[39mKeyInFileError(\n\u001b[1;32m   2069\u001b[0m         item, cycle\u001b[38;5;241m=\u001b[39mcycle, keys\u001b[38;5;241m=\u001b[39m\u001b[38;5;28mself\u001b[39m\u001b[38;5;241m.\u001b[39mkeys(), file_path\u001b[38;5;241m=\u001b[39m\u001b[38;5;28mself\u001b[39m\u001b[38;5;241m.\u001b[39m_file\u001b[38;5;241m.\u001b[39mfile_path\n\u001b[1;32m   2070\u001b[0m     )\n",
      "\u001b[0;31mKeyInFileError\u001b[0m: not found: 'coin' (with any cycle number)\n\n    Available keys: 'T;1', 'E;1', 'TSP;1', 'TSH;1', 'hkin_Q2;1', 'hkin_W2;1', 'pkin_pt;1', 'hkin_xbj;1', 'phi_had;1', 'Run_Data;2', 'pkin_z_had;1', 'h_pathcorr;1', 'p_pathcorr;1', 'c_pathcorr;1', 'pkin_mmiss2;1', 'h_ctrig_tdc;1'...\n\nin file /work/hallc/c-rsidis/gaskelld/example_output/coin_replay_production_6126_-1.root"
     ]
    }
   ],
   "source": [
    "import uproot\n",
    "import numpy as np\n",
    "import matplotlib.pyplot as plt\n",
    "\n",
    "# Define run numbers\n",
    "run_raw = 6126\n",
    "run_dummy = 6127\n",
    "\n",
    "# Toggle to apply pion selection cuts\n",
    "apply_cuts = True\n",
    "\n",
    "# File paths\n",
    "raw_data_path = f'/work/hallc/c-rsidis/gaskelld/example_output/coin_replay_production_{run_raw}_-1.root'\n",
    "\n",
    "# open the file\n",
    "f = uproot.open(raw_data_path)\n",
    "\n",
    "# 1) See what objects (TTrees, TH1s, etc.) are in the file:\n",
    "print(f.keys())  \n",
    "# e.g. → [b'coin', b'hists', ...]\n",
    "\n",
    "# 2) If “coin” is your TTree, grab it and list its branches\n",
    "tree = f[\"T;1\"]\n",
    "print(tree.keys())   \n",
    "# e.g. → [b'trigger', b'p_e', b'p_p', b'hs2x_fp', …]\n",
    "\n",
    "# 3) For a nicer summary with types & shapes, use show():\n",
    "tree.show()"
   ]
  },
  {
   "cell_type": "code",
   "execution_count": null,
   "id": "a8fb4a37-eb36-4921-a7b5-d16446755e4c",
   "metadata": {},
   "outputs": [],
   "source": []
  }
 ],
 "metadata": {
  "kernelspec": {
   "display_name": "Python 3 (ipykernel)",
   "language": "python",
   "name": "python3"
  },
  "language_info": {
   "codemirror_mode": {
    "name": "ipython",
    "version": 3
   },
   "file_extension": ".py",
   "mimetype": "text/x-python",
   "name": "python",
   "nbconvert_exporter": "python",
   "pygments_lexer": "ipython3",
   "version": "3.11.9"
  }
 },
 "nbformat": 4,
 "nbformat_minor": 5
}
