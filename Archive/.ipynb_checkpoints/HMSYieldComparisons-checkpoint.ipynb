{
 "cells": [
  {
   "cell_type": "code",
   "execution_count": 11,
   "id": "cdc6337b-df4a-4b01-83d5-ca4ac01f0edf",
   "metadata": {},
   "outputs": [
    {
     "ename": "NameError",
     "evalue": "name 'x_mc' is not defined",
     "output_type": "error",
     "traceback": [
      "\u001b[0;31m---------------------------------------------------------------------------\u001b[0m",
      "\u001b[0;31mNameError\u001b[0m                                 Traceback (most recent call last)",
      "Cell \u001b[0;32mIn[11], line 76\u001b[0m\n\u001b[1;32m     72\u001b[0m plt\u001b[38;5;241m.\u001b[39mfigure(figsize\u001b[38;5;241m=\u001b[39m(\u001b[38;5;241m8\u001b[39m, \u001b[38;5;241m6\u001b[39m))\n\u001b[1;32m     74\u001b[0m plt\u001b[38;5;241m.\u001b[39mhist(x_data, bins\u001b[38;5;241m=\u001b[39mbins, histtype\u001b[38;5;241m=\u001b[39m\u001b[38;5;124m'\u001b[39m\u001b[38;5;124mstep\u001b[39m\u001b[38;5;124m'\u001b[39m, color\u001b[38;5;241m=\u001b[39m\u001b[38;5;124m'\u001b[39m\u001b[38;5;124mred\u001b[39m\u001b[38;5;124m'\u001b[39m, linewidth\u001b[38;5;241m=\u001b[39m\u001b[38;5;241m2\u001b[39m,\n\u001b[1;32m     75\u001b[0m          label\u001b[38;5;241m=\u001b[39m\u001b[38;5;124mf\u001b[39m\u001b[38;5;124m\"\u001b[39m\u001b[38;5;124mData Run \u001b[39m\u001b[38;5;132;01m{\u001b[39;00mrun_number\u001b[38;5;132;01m}\u001b[39;00m\u001b[38;5;124m\"\u001b[39m, density\u001b[38;5;241m=\u001b[39m\u001b[38;5;28;01mTrue\u001b[39;00m)\n\u001b[0;32m---> 76\u001b[0m plt\u001b[38;5;241m.\u001b[39mhist(\u001b[43mx_mc\u001b[49m, bins\u001b[38;5;241m=\u001b[39mbins, histtype\u001b[38;5;241m=\u001b[39m\u001b[38;5;124m'\u001b[39m\u001b[38;5;124mstep\u001b[39m\u001b[38;5;124m'\u001b[39m, color\u001b[38;5;241m=\u001b[39m\u001b[38;5;124m'\u001b[39m\u001b[38;5;124mblue\u001b[39m\u001b[38;5;124m'\u001b[39m, linewidth\u001b[38;5;241m=\u001b[39m\u001b[38;5;241m2\u001b[39m,\n\u001b[1;32m     77\u001b[0m          label\u001b[38;5;241m=\u001b[39m\u001b[38;5;124m\"\u001b[39m\u001b[38;5;124mMC Simulation\u001b[39m\u001b[38;5;124m\"\u001b[39m, density\u001b[38;5;241m=\u001b[39m\u001b[38;5;28;01mTrue\u001b[39;00m)\n\u001b[1;32m     79\u001b[0m plt\u001b[38;5;241m.\u001b[39mxlabel(var)\n\u001b[1;32m     80\u001b[0m plt\u001b[38;5;241m.\u001b[39mylabel(\u001b[38;5;124m\"\u001b[39m\u001b[38;5;124mNormalized Counts\u001b[39m\u001b[38;5;124m\"\u001b[39m)\n",
      "\u001b[0;31mNameError\u001b[0m: name 'x_mc' is not defined"
     ]
    },
    {
     "data": {
      "image/png": "[encoded data removed]",
      "text/plain": [
       "<Figure size 800x600 with 1 Axes>"
      ]
     },
     "metadata": {},
     "output_type": "display_data"
    }
   ],
   "source": [
    "import uproot\n",
    "import numpy as np\n",
    "import matplotlib.pyplot as plt\n",
    "from IPython.display import Image\n",
    "\n",
    "# -----------------------------\n",
    "# Settings\n",
    "# -----------------------------\n",
    "\n",
    "run_number = 24242\n",
    "use_pid_cuts = True\n",
    "quantity_of_interest = q2\n",
    "\n",
    "# Real data and MC ROOT files\n",
    "replay_file = f'/w/hallc-scshelf2102/c-rsidis/relder/ROOTfiles/hms_coin_replay_production_{run_number}_-1.root'\n",
    "mc_file = '/u/group/c-rsidis/relder/mc-single-arm/worksim/hms_28p7deg_1p6gev_copper25_rsidis.root'\n",
    "\n",
    "# -----------------------------\n",
    "# Real Data Processing\n",
    "# -----------------------------\n",
    "\n",
    "# Load real data\n",
    "data_tree = uproot.open(replay_file)[\"T\"]\n",
    "data_arrays = data_tree.arrays([\"H.cal.etottracknorm\", \"H.cer.npeSum\", \"H.kin.Q2\"], library=\"np\")\n",
    "\n",
    "# Extract variables\n",
    "cal_data = data_arrays[\"H.cal.etottracknorm\"]\n",
    "cer_data = data_arrays[\"H.cer.npeSum\"]\n",
    "q2_data = data_arrays[\"H.kin.Q2\"]\n",
    "\n",
    "# Apply PID cuts to real data\n",
    "if use_pid_cuts:\n",
    "    pid_cuts_data = (cal_data > 0.7) & (cer_data > 1)\n",
    "    data_arrays_cut = {key: arr[pid_cuts_data] for key, arr in data_arrays.items()}\n",
    "else:\n",
    "    data_arrays_cut = data_arrays\n",
    "\n",
    "# -----------------------------\n",
    "# MC Processing\n",
    "# -----------------------------\n",
    "\n",
    "# Load MC simulation\n",
    "mc_tree = uproot.open(mc_file)[\"h10\"]\n",
    "mc_arrays = mc_tree.arrays([\"hsxfp\", \"hsyfp\", \"hsxpfp\", \"hsypfp\", \"hsytar\", \"hsxptar\", \"hsyptar\", \n",
    "                           \"hsztar\", \"hsdelta\", \"xb\", \"q2\", \"w\"], library=\"np\")\n",
    "\n",
    "# Extract variables\n",
    "xfp_mc = mc_arrays[\"hsxfp\"]\n",
    "yfp_mc = mc_arrays[\"hsyfp\"]\n",
    "xpfp_mc = mc_arrays[\"hsxpfp\"] \n",
    "ypfp_mc = mc_arrays[\"hsypfp\"]\n",
    "ytar_mc = mc_arrays[\"hsytar\"]\n",
    "xptar_mc = mc_arrays[\"hsxptar\"]\n",
    "yptar_mc = mc_arrays[\"hsyptar\"]\n",
    "ztar_mc = mc_arrays[\"hsztar\"]\n",
    "delta_mc = mc_arrays[\"hsdelta\"]\n",
    "xb_mc = mc_arrays[\"xb\"]\n",
    "q2_mc = mc_arrays[\"q2\"]\n",
    "w_mc = mc_arrays[\"w\"]\n",
    "# Apply PID cuts to MC\n",
    "if use_pid_cuts:\n",
    "    pid_cuts_mc = (np.abs(delta_mc) < 0.08)\n",
    "    mc_arrays_cut = {key: arr[pid_cuts_mc] for key, arr in mc_arrays.items()}\n",
    "else:\n",
    "    mc_arrays_cut = mc_arrays\n",
    "\n",
    "\n",
    "# -----------------------------\n",
    "# Plotting\n",
    "# -----------------------------\n",
    "\n",
    "bins = np.linspace(0, 15, 101)\n",
    "\n",
    "plt.figure(figsize=(8, 6))\n",
    "\n",
    "plt.hist(f'{quantity_of_interest}_data', bins=bins, histtype='step', color='red', linewidth=2,\n",
    "         label=f\"Data Run {run_number}\", density=True)\n",
    "plt.hist(f'{quantity_of_interest}_mc', bins=bins, histtype='step', color='blue', linewidth=2,\n",
    "         label=\"MC Simulation\", density=True)\n",
    "\n",
    "plt.xlabel(var)\n",
    "plt.ylabel(\"Normalized Counts\")\n",
    "plt.title(f\"HMS Yield Comparison: Data vs MC ({var})\")\n",
    "plt.grid(True)\n",
    "plt.legend()\n",
    "plt.tight_layout()\n",
    "\n",
    "# Save and display\n",
    "output_filename = f\"{var.replace('.', '_')}_HMS_Comparison_Run{run_number}.png\"\n",
    "plt.savefig(output_filename)\n",
    "print(f\"Saved plot: {output_filename}\")\n",
    "\n",
    "Image(output_filename)\n"
   ]
  },
  {
   "cell_type": "code",
   "execution_count": null,
   "id": "53880091-fea5-4e00-9801-357f8535ff88",
   "metadata": {},
   "outputs": [],
   "source": []
  }
 ],
 "metadata": {
  "kernelspec": {
   "display_name": "Python 3 (ipykernel)",
   "language": "python",
   "name": "python3"
  },
  "language_info": {
   "codemirror_mode": {
    "name": "ipython",
    "version": 3
   },
   "file_extension": ".py",
   "mimetype": "text/x-python",
   "name": "python",
   "nbconvert_exporter": "python",
   "pygments_lexer": "ipython3",
   "version": "3.11.9"
  }
 },
 "nbformat": 4,
 "nbformat_minor": 5
}
