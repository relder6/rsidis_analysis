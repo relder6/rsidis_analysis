{
 "cells": [
  {
   "cell_type": "markdown",
   "id": "89a7e68d-6112-4911-9b81-ee5a31fd25fb",
   "metadata": {},
   "source": [
    "# IMPORTS"
   ]
  },
  {
   "cell_type": "code",
   "execution_count": null,
   "id": "9c94503a-4d75-4efa-9695-feeab08b9190",
   "metadata": {},
   "outputs": [],
   "source": [
    "import matplotlib\n",
    "matplotlib.use('Agg')  # Use a non-interactive backend for matplotlib\n",
    "from matplotlib.backends.backend_pdf import PdfPages\n",
    "import uproot\n",
    "import numpy as np\n",
    "import pandas as pd\n",
    "import matplotlib.pyplot as plt\n",
    "import boost_histogram as bh"
   ]
  },
  {
   "cell_type": "markdown",
   "id": "2d1f7359-35c6-40bf-acfe-7a76d98d00af",
   "metadata": {},
   "source": [
    "# SETTINGS"
   ]
  },
  {
   "cell_type": "code",
   "execution_count": null,
   "id": "b0b8fea4-809c-4adb-8d9d-b1828faaa0f9",
   "metadata": {},
   "outputs": [],
   "source": [
    "target = 'Copper'\n",
    "run_number_electron = 24148\n",
    "beam_charge = 13614.219 # BCM4C Beam Cut Charge: 13614.219 uC\n",
    "live_time = 1 # Assumption\n",
    "tracking_eff = 1 # Assumption\n",
    "prescale_factor = 1 # From report file\n",
    "\n",
    "run_number_positron = 24551\n",
    "beam_charge_pos = 45807.820 # BCM4C Beam Cut Charge: 45807.820 uC\n",
    "live_time_pos = 1 # Assumption\n",
    "tracking_eff_pos = 1 # Assumption\n",
    "prescale_factor_pos = 3 # From report file\n",
    "\n",
    "USE_LOG_SCALE = False\n",
    "beam_charge_milliC     = beam_charge / 1000\n",
    "beam_charge_milliC_pos = beam_charge_pos / 1000"
   ]
  },
  {
   "cell_type": "markdown",
   "id": "95b445f1-5e9d-43fe-a97d-ca445790d8b6",
   "metadata": {},
   "source": [
    "# FILEPATHS AND BRANCHES"
   ]
  },
  {
   "cell_type": "code",
   "execution_count": null,
   "id": "57748fed-ad67-4792-8a75-495ccca5e428",
   "metadata": {},
   "outputs": [],
   "source": [
    "electron_file = f\"/w/hallc-scshelf2102/c-rsidis/relder/ROOTfiles/hms_coin_replay_production_{run_number_electron}_-1.root\"\n",
    "positron_file = f\"/w/hallc-scshelf2102/c-rsidis/relder/ROOTfiles/hms_coin_replay_production_{run_number_positron}_-1.root\"\n",
    "\n",
    "branches = [\"H.gtr.dp\", \"H.cal.etottracknorm\", \"H.gtr.ph\", \"H.gtr.th\",\"H.gtr.x\", \"H.gtr.y\", \"H.kin.Q2\", \"H.kin.x_bj\", \"H.kin.W\", \"H.cer.npeSum\"]\n",
    "df_elec = pd.DataFrame(uproot.open(electron_file)[\"T\"].arrays(branches, library=\"np\"))\n",
    "df_pos  = pd.DataFrame(uproot.open(positron_file)[\"T\"].arrays(branches, library=\"np\"))"
   ]
  },
  {
   "cell_type": "markdown",
   "id": "624be3a6-7806-4e22-a34c-14486598b529",
   "metadata": {},
   "source": [
    "# CUTS AND WEIGHTS"
   ]
  },
  {
   "cell_type": "code",
   "execution_count": null,
   "id": "fb834942-18dc-43f1-a290-6b308702a627",
   "metadata": {},
   "outputs": [],
   "source": [
    "cut_elec = (\n",
    "    #df_elec[\"H.gtr.dp\"].between(-8, 8) &\n",
    "    (df_elec[\"H.cer.npeSum\"] > 2) &\n",
    "    (df_elec[\"H.cal.etottracknorm\"] > 0.8)\n",
    ")\n",
    "\n",
    "cut_pos =(\n",
    "    #df_pos[\"H.gtr.dp\"].between(-8, 8) &\n",
    "    (df_pos[\"H.cer.npeSum\"] > 2) &\n",
    "    (df_pos[\"H.cal.etottracknorm\"] > 0.8)\n",
    ")\n",
    "\n",
    "df_elec_cut = df_elec[cut_elec].copy()\n",
    "df_pos_cut  = df_pos[cut_pos].copy()\n",
    "\n",
    "df_elec_cut[\"weight\"] = prescale_factor / (beam_charge_milliC * tracking_eff * live_time)\n",
    "df_pos_cut[\"weight\"]  = prescale_factor_pos / (beam_charge_milliC_pos * tracking_eff_pos * live_time_pos)"
   ]
  }
 ],
 "metadata": {
  "kernelspec": {
   "display_name": "Python 3 (ipykernel)",
   "language": "python",
   "name": "python3"
  },
  "language_info": {
   "codemirror_mode": {
    "name": "ipython",
    "version": 3
   },
   "file_extension": ".py",
   "mimetype": "text/x-python",
   "name": "python",
   "nbconvert_exporter": "python",
   "pygments_lexer": "ipython3",
   "version": "3.11.9"
  }
 },
 "nbformat": 4,
 "nbformat_minor": 5
}
